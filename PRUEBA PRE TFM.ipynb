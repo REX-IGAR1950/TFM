{
 "cells": [
  {
   "cell_type": "markdown",
   "metadata": {},
   "source": [
    "## PRE TFM: MODELO MUESTRAL\n",
    "\n",
    "Este notebook tiene como finalidad crear una sencilla replica del modelo final de TFM. Para ello trabajaré sobre una muestra reducida de un dataset en el que se desglosan los repartos de mercancías de una compañía de transporte\n",
    "\n",
    "Presenta una serie de objetivos, los cuales trataré de finalizar en el mes de abril:\n",
    "\n",
    "- Obtener una muestra reducida e implementarle una estructura sólida para nuestro propósito\n",
    "- Definir las mejores herramientas \n",
    "- Geocodificar los repartos\n",
    "- Sacar una MATRIZ DE DISTANCIAS Y TIEMPOS\n",
    "- Aplicar clusterización a dataset\n",
    "- Plotear la salida"
   ]
  },
  {
   "cell_type": "markdown",
   "metadata": {},
   "source": [
    "### No se podrá correr el código ya que para ello es necesario la API de Google y por seguridad recomiendan no dejarla en el código.\n",
    "\n",
    "NOTA AL PROFESOR: No he conseguido ocultar esta variable. Está definida (la variable) en un archivo .py de diferente directorio pero al importarla se puede seguir viendo la variable por lo que omito esa celda del notebook)"
   ]
  },
  {
   "cell_type": "code",
   "execution_count": 116,
   "metadata": {},
   "outputs": [],
   "source": [
    "import numpy as np\n",
    "import pandas as pd\n",
    "import matplotlib.pyplot as plt\n",
    "\n",
    "%matplotlib inline"
   ]
  },
  {
   "cell_type": "code",
   "execution_count": 117,
   "metadata": {},
   "outputs": [
    {
     "name": "stdout",
     "output_type": "stream",
     "text": [
      "/home/dsc/tfm\r\n"
     ]
    }
   ],
   "source": [
    "!pwd"
   ]
  },
  {
   "cell_type": "code",
   "execution_count": 118,
   "metadata": {},
   "outputs": [
    {
     "name": "stdout",
     "output_type": "stream",
     "text": [
      "data_prueba_sample.xls\tfirts_tfm_file\t      __pycache__\r\n",
      "data_prueba.xls\t\tPRUEBA PRE TFM.ipynb  tfm_imports.py\r\n"
     ]
    }
   ],
   "source": [
    "!ls"
   ]
  },
  {
   "cell_type": "code",
   "execution_count": 140,
   "metadata": {
    "scrolled": true
   },
   "outputs": [
    {
     "data": {
      "text/html": [
       "<div>\n",
       "<style scoped>\n",
       "    .dataframe tbody tr th:only-of-type {\n",
       "        vertical-align: middle;\n",
       "    }\n",
       "\n",
       "    .dataframe tbody tr th {\n",
       "        vertical-align: top;\n",
       "    }\n",
       "\n",
       "    .dataframe thead th {\n",
       "        text-align: right;\n",
       "    }\n",
       "</style>\n",
       "<table border=\"1\" class=\"dataframe\">\n",
       "  <thead>\n",
       "    <tr style=\"text-align: right;\">\n",
       "      <th></th>\n",
       "      <th>DIRECCION</th>\n",
       "      <th>CP DESTINO</th>\n",
       "      <th>POBLACION DESTINO</th>\n",
       "    </tr>\n",
       "  </thead>\n",
       "  <tbody>\n",
       "    <tr>\n",
       "      <th>0</th>\n",
       "      <td>AV ENCINA 26</td>\n",
       "      <td>28942.0</td>\n",
       "      <td>FUENLABRADA</td>\n",
       "    </tr>\n",
       "    <tr>\n",
       "      <th>1</th>\n",
       "      <td>FRANCISCO DE ROJAS 10</td>\n",
       "      <td>28010.0</td>\n",
       "      <td>MADRID</td>\n",
       "    </tr>\n",
       "    <tr>\n",
       "      <th>2</th>\n",
       "      <td>RUIZ DE ALARCON 3</td>\n",
       "      <td>28014.0</td>\n",
       "      <td>MADRID</td>\n",
       "    </tr>\n",
       "    <tr>\n",
       "      <th>3</th>\n",
       "      <td>C ALMAGRO, 9</td>\n",
       "      <td>28010.0</td>\n",
       "      <td>MADRID</td>\n",
       "    </tr>\n",
       "    <tr>\n",
       "      <th>4</th>\n",
       "      <td>SAN LUIS, 25 1146</td>\n",
       "      <td>28033.0</td>\n",
       "      <td>MADRID</td>\n",
       "    </tr>\n",
       "    <tr>\n",
       "      <th>5</th>\n",
       "      <td>SAN JUAN DE ORTEGA 90</td>\n",
       "      <td>28034.0</td>\n",
       "      <td>MADRID</td>\n",
       "    </tr>\n",
       "    <tr>\n",
       "      <th>6</th>\n",
       "      <td>PORTO MARIN 7</td>\n",
       "      <td>28050.0</td>\n",
       "      <td>MADRID</td>\n",
       "    </tr>\n",
       "    <tr>\n",
       "      <th>7</th>\n",
       "      <td>CASTIELLO 14</td>\n",
       "      <td>28050.0</td>\n",
       "      <td>MADRID</td>\n",
       "    </tr>\n",
       "    <tr>\n",
       "      <th>8</th>\n",
       "      <td>SAN JUAN ORTEGA</td>\n",
       "      <td>28050.0</td>\n",
       "      <td>MADRID</td>\n",
       "    </tr>\n",
       "    <tr>\n",
       "      <th>9</th>\n",
       "      <td>PRINCESA DE EBOLI 52</td>\n",
       "      <td>28050.0</td>\n",
       "      <td>MADRID</td>\n",
       "    </tr>\n",
       "    <tr>\n",
       "      <th>10</th>\n",
       "      <td>SAN JUAN DE ORTEGA 90</td>\n",
       "      <td>28049.0</td>\n",
       "      <td>MADRID</td>\n",
       "    </tr>\n",
       "    <tr>\n",
       "      <th>11</th>\n",
       "      <td>CASTILLO DE CANDANHU 48</td>\n",
       "      <td>28050.0</td>\n",
       "      <td>MADRID</td>\n",
       "    </tr>\n",
       "    <tr>\n",
       "      <th>12</th>\n",
       "      <td>DULCE CHACON 17</td>\n",
       "      <td>28050.0</td>\n",
       "      <td>MADRID</td>\n",
       "    </tr>\n",
       "    <tr>\n",
       "      <th>13</th>\n",
       "      <td>PRINCESA DE EBOLI 52</td>\n",
       "      <td>28050.0</td>\n",
       "      <td>MADRID</td>\n",
       "    </tr>\n",
       "    <tr>\n",
       "      <th>14</th>\n",
       "      <td>AVDA JUAN CARLOS 1 27 BAJO A</td>\n",
       "      <td>28221.0</td>\n",
       "      <td>MAJADAHONDA</td>\n",
       "    </tr>\n",
       "    <tr>\n",
       "      <th>15</th>\n",
       "      <td>MONASTERIO DE LAS HUELGAS 21</td>\n",
       "      <td>28049.0</td>\n",
       "      <td>MADRID</td>\n",
       "    </tr>\n",
       "    <tr>\n",
       "      <th>16</th>\n",
       "      <td>CERRO MINGUETE 165</td>\n",
       "      <td>28035.0</td>\n",
       "      <td>MADRID</td>\n",
       "    </tr>\n",
       "    <tr>\n",
       "      <th>17</th>\n",
       "      <td>C SANZ RASO, 57 -LOCAL-</td>\n",
       "      <td>28038.0</td>\n",
       "      <td>MADRID</td>\n",
       "    </tr>\n",
       "    <tr>\n",
       "      <th>18</th>\n",
       "      <td>GENERAL YAGUE 12</td>\n",
       "      <td>28020.0</td>\n",
       "      <td>MADRID</td>\n",
       "    </tr>\n",
       "    <tr>\n",
       "      <th>19</th>\n",
       "      <td>MORANTE</td>\n",
       "      <td>28001.0</td>\n",
       "      <td>MADRID</td>\n",
       "    </tr>\n",
       "    <tr>\n",
       "      <th>20</th>\n",
       "      <td>VILLALOBOS 137</td>\n",
       "      <td>28018.0</td>\n",
       "      <td>MADRID</td>\n",
       "    </tr>\n",
       "    <tr>\n",
       "      <th>21</th>\n",
       "      <td>PLZ SAGRADO CORAZON DE JESUS 2</td>\n",
       "      <td>28002.0</td>\n",
       "      <td>MADRID</td>\n",
       "    </tr>\n",
       "    <tr>\n",
       "      <th>22</th>\n",
       "      <td>HISTORIAS DE LA RADIO 4</td>\n",
       "      <td>28018.0</td>\n",
       "      <td>MADRID</td>\n",
       "    </tr>\n",
       "    <tr>\n",
       "      <th>23</th>\n",
       "      <td>LA CORUÑA 24</td>\n",
       "      <td>28020.0</td>\n",
       "      <td>MADRID</td>\n",
       "    </tr>\n",
       "    <tr>\n",
       "      <th>24</th>\n",
       "      <td>AYALA 109</td>\n",
       "      <td>28009.0</td>\n",
       "      <td>MADRID</td>\n",
       "    </tr>\n",
       "    <tr>\n",
       "      <th>25</th>\n",
       "      <td>MELCHOR FERNANDEZ ALMAGRO</td>\n",
       "      <td>28029.0</td>\n",
       "      <td>MADRID</td>\n",
       "    </tr>\n",
       "    <tr>\n",
       "      <th>26</th>\n",
       "      <td>C SANZ RASO, 57 LOCAL</td>\n",
       "      <td>28038.0</td>\n",
       "      <td>MADRID</td>\n",
       "    </tr>\n",
       "    <tr>\n",
       "      <th>27</th>\n",
       "      <td>CALERO PITA</td>\n",
       "      <td>28053.0</td>\n",
       "      <td>MADRID</td>\n",
       "    </tr>\n",
       "    <tr>\n",
       "      <th>28</th>\n",
       "      <td>C HIEDRA, S/N</td>\n",
       "      <td>28036.0</td>\n",
       "      <td>MADRID</td>\n",
       "    </tr>\n",
       "    <tr>\n",
       "      <th>29</th>\n",
       "      <td>PZA. MANUEL GOMEZ MORENO, 2 - 1º</td>\n",
       "      <td>28020.0</td>\n",
       "      <td>MADRID</td>\n",
       "    </tr>\n",
       "    <tr>\n",
       "      <th>...</th>\n",
       "      <td>...</td>\n",
       "      <td>...</td>\n",
       "      <td>...</td>\n",
       "    </tr>\n",
       "    <tr>\n",
       "      <th>288</th>\n",
       "      <td>NU?EZ DE BALBOA 70</td>\n",
       "      <td>28006.0</td>\n",
       "      <td>MADRID</td>\n",
       "    </tr>\n",
       "    <tr>\n",
       "      <th>289</th>\n",
       "      <td>ANABEL SEGURA 11</td>\n",
       "      <td>28108.0</td>\n",
       "      <td>ALCOBENDAS</td>\n",
       "    </tr>\n",
       "    <tr>\n",
       "      <th>290</th>\n",
       "      <td>ANABEL SEGURA 11</td>\n",
       "      <td>28108.0</td>\n",
       "      <td>ALCOBENDAS</td>\n",
       "    </tr>\n",
       "    <tr>\n",
       "      <th>291</th>\n",
       "      <td>VELAZQUEZ 114</td>\n",
       "      <td>28006.0</td>\n",
       "      <td>MADRID</td>\n",
       "    </tr>\n",
       "    <tr>\n",
       "      <th>292</th>\n",
       "      <td>VIRGILIO 2B</td>\n",
       "      <td>28223.0</td>\n",
       "      <td>POZUELO DE ALARCON</td>\n",
       "    </tr>\n",
       "    <tr>\n",
       "      <th>293</th>\n",
       "      <td>ORTEGA Y GASSET 29</td>\n",
       "      <td>28006.0</td>\n",
       "      <td>MADRID</td>\n",
       "    </tr>\n",
       "    <tr>\n",
       "      <th>294</th>\n",
       "      <td>PSO DE LA CASTELLANA 216</td>\n",
       "      <td>28046.0</td>\n",
       "      <td>MADRID</td>\n",
       "    </tr>\n",
       "    <tr>\n",
       "      <th>295</th>\n",
       "      <td>POETA JUAN MARAGALL 1</td>\n",
       "      <td>28046.0</td>\n",
       "      <td>MADRID</td>\n",
       "    </tr>\n",
       "    <tr>\n",
       "      <th>296</th>\n",
       "      <td>PASEO DE LA CASTELLANA 83-85</td>\n",
       "      <td>28046.0</td>\n",
       "      <td>MADRID</td>\n",
       "    </tr>\n",
       "    <tr>\n",
       "      <th>297</th>\n",
       "      <td>DUQUESA DE CASTREJON 15</td>\n",
       "      <td>28033.0</td>\n",
       "      <td>MADRID</td>\n",
       "    </tr>\n",
       "    <tr>\n",
       "      <th>298</th>\n",
       "      <td>C/ EMILIO VARGAS, 18 ECALERA 2-2ºB</td>\n",
       "      <td>28043.0</td>\n",
       "      <td>MADRID</td>\n",
       "    </tr>\n",
       "    <tr>\n",
       "      <th>299</th>\n",
       "      <td>MERCAMADRID C/ NAVE E PUESTO 50-52</td>\n",
       "      <td>28053.0</td>\n",
       "      <td>MADRID</td>\n",
       "    </tr>\n",
       "    <tr>\n",
       "      <th>300</th>\n",
       "      <td>CIUDAD TELEFONICA LAS TABLAS C/SAN JUAN</td>\n",
       "      <td>28050.0</td>\n",
       "      <td>MADRID</td>\n",
       "    </tr>\n",
       "    <tr>\n",
       "      <th>301</th>\n",
       "      <td>CL GRAN VIA 22 DU 5</td>\n",
       "      <td>28001.0</td>\n",
       "      <td>MADRID</td>\n",
       "    </tr>\n",
       "    <tr>\n",
       "      <th>302</th>\n",
       "      <td>AVDA SAN LUIS, 25</td>\n",
       "      <td>28033.0</td>\n",
       "      <td>MADRID</td>\n",
       "    </tr>\n",
       "    <tr>\n",
       "      <th>303</th>\n",
       "      <td>AVDA SAN LUIS, 25</td>\n",
       "      <td>28033.0</td>\n",
       "      <td>MADRID</td>\n",
       "    </tr>\n",
       "    <tr>\n",
       "      <th>304</th>\n",
       "      <td>CL GRAN VIA 32 8.</td>\n",
       "      <td>28013.0</td>\n",
       "      <td>MADRID</td>\n",
       "    </tr>\n",
       "    <tr>\n",
       "      <th>305</th>\n",
       "      <td>C SANTA LEONOR, 65 -EDIF. F- 3ª PLTA-PARQ.EMP....</td>\n",
       "      <td>28037.0</td>\n",
       "      <td>MADRID</td>\n",
       "    </tr>\n",
       "    <tr>\n",
       "      <th>306</th>\n",
       "      <td>GUZMAN EL BUENO, 110</td>\n",
       "      <td>28003.0</td>\n",
       "      <td>MADRID</td>\n",
       "    </tr>\n",
       "    <tr>\n",
       "      <th>307</th>\n",
       "      <td>PLAZA DE LA INDEPENDENCIA 6</td>\n",
       "      <td>28001.0</td>\n",
       "      <td>MADRID</td>\n",
       "    </tr>\n",
       "    <tr>\n",
       "      <th>308</th>\n",
       "      <td>CASTELLANA 42</td>\n",
       "      <td>28046.0</td>\n",
       "      <td>MADRID</td>\n",
       "    </tr>\n",
       "    <tr>\n",
       "      <th>309</th>\n",
       "      <td>ISABEL CORLBRAN 6-8</td>\n",
       "      <td>28050.0</td>\n",
       "      <td>MADRID</td>\n",
       "    </tr>\n",
       "    <tr>\n",
       "      <th>310</th>\n",
       "      <td>VELAZQUEZ 114</td>\n",
       "      <td>28006.0</td>\n",
       "      <td>MADRID</td>\n",
       "    </tr>\n",
       "    <tr>\n",
       "      <th>311</th>\n",
       "      <td>VELAZQUEZ 94</td>\n",
       "      <td>28006.0</td>\n",
       "      <td>MADRID</td>\n",
       "    </tr>\n",
       "    <tr>\n",
       "      <th>312</th>\n",
       "      <td>AV MARCONI 4</td>\n",
       "      <td>28021.0</td>\n",
       "      <td>MADRID</td>\n",
       "    </tr>\n",
       "    <tr>\n",
       "      <th>313</th>\n",
       "      <td>C/ GRANADA 3 PLIND VALDONAIRE</td>\n",
       "      <td>28970.0</td>\n",
       "      <td>HUMANES DE MADRID</td>\n",
       "    </tr>\n",
       "    <tr>\n",
       "      <th>314</th>\n",
       "      <td>AVDA DEL PARTENON, 5 2º ED. CENTRAL PTA SUR</td>\n",
       "      <td>28042.0</td>\n",
       "      <td>MADRID</td>\n",
       "    </tr>\n",
       "    <tr>\n",
       "      <th>315</th>\n",
       "      <td>SANTA ENGRACIA 13</td>\n",
       "      <td>28010.0</td>\n",
       "      <td>MADRID</td>\n",
       "    </tr>\n",
       "    <tr>\n",
       "      <th>316</th>\n",
       "      <td>NaN</td>\n",
       "      <td>NaN</td>\n",
       "      <td>NaN</td>\n",
       "    </tr>\n",
       "    <tr>\n",
       "      <th>317</th>\n",
       "      <td>NaN</td>\n",
       "      <td>NaN</td>\n",
       "      <td>NaN</td>\n",
       "    </tr>\n",
       "  </tbody>\n",
       "</table>\n",
       "<p>318 rows × 3 columns</p>\n",
       "</div>"
      ],
      "text/plain": [
       "                                             DIRECCION  CP DESTINO  \\\n",
       "0                                         AV ENCINA 26     28942.0   \n",
       "1                                FRANCISCO DE ROJAS 10     28010.0   \n",
       "2                                    RUIZ DE ALARCON 3     28014.0   \n",
       "3                                         C ALMAGRO, 9     28010.0   \n",
       "4                                    SAN LUIS, 25 1146     28033.0   \n",
       "5                                SAN JUAN DE ORTEGA 90     28034.0   \n",
       "6                                        PORTO MARIN 7     28050.0   \n",
       "7                                         CASTIELLO 14     28050.0   \n",
       "8                                      SAN JUAN ORTEGA     28050.0   \n",
       "9                                 PRINCESA DE EBOLI 52     28050.0   \n",
       "10                               SAN JUAN DE ORTEGA 90     28049.0   \n",
       "11                             CASTILLO DE CANDANHU 48     28050.0   \n",
       "12                                     DULCE CHACON 17     28050.0   \n",
       "13                                PRINCESA DE EBOLI 52     28050.0   \n",
       "14                        AVDA JUAN CARLOS 1 27 BAJO A     28221.0   \n",
       "15                        MONASTERIO DE LAS HUELGAS 21     28049.0   \n",
       "16                                  CERRO MINGUETE 165     28035.0   \n",
       "17                             C SANZ RASO, 57 -LOCAL-     28038.0   \n",
       "18                                    GENERAL YAGUE 12     28020.0   \n",
       "19                                             MORANTE     28001.0   \n",
       "20                                      VILLALOBOS 137     28018.0   \n",
       "21                      PLZ SAGRADO CORAZON DE JESUS 2     28002.0   \n",
       "22                             HISTORIAS DE LA RADIO 4     28018.0   \n",
       "23                                        LA CORUÑA 24     28020.0   \n",
       "24                                           AYALA 109     28009.0   \n",
       "25                           MELCHOR FERNANDEZ ALMAGRO     28029.0   \n",
       "26                               C SANZ RASO, 57 LOCAL     28038.0   \n",
       "27                                         CALERO PITA     28053.0   \n",
       "28                                       C HIEDRA, S/N     28036.0   \n",
       "29                    PZA. MANUEL GOMEZ MORENO, 2 - 1º     28020.0   \n",
       "..                                                 ...         ...   \n",
       "288                                 NU?EZ DE BALBOA 70     28006.0   \n",
       "289                                   ANABEL SEGURA 11     28108.0   \n",
       "290                                   ANABEL SEGURA 11     28108.0   \n",
       "291                                      VELAZQUEZ 114     28006.0   \n",
       "292                                        VIRGILIO 2B     28223.0   \n",
       "293                                 ORTEGA Y GASSET 29     28006.0   \n",
       "294                           PSO DE LA CASTELLANA 216     28046.0   \n",
       "295                              POETA JUAN MARAGALL 1     28046.0   \n",
       "296                       PASEO DE LA CASTELLANA 83-85     28046.0   \n",
       "297                            DUQUESA DE CASTREJON 15     28033.0   \n",
       "298                 C/ EMILIO VARGAS, 18 ECALERA 2-2ºB     28043.0   \n",
       "299                 MERCAMADRID C/ NAVE E PUESTO 50-52     28053.0   \n",
       "300            CIUDAD TELEFONICA LAS TABLAS C/SAN JUAN     28050.0   \n",
       "301                                CL GRAN VIA 22 DU 5     28001.0   \n",
       "302                                  AVDA SAN LUIS, 25     28033.0   \n",
       "303                                  AVDA SAN LUIS, 25     28033.0   \n",
       "304                                  CL GRAN VIA 32 8.     28013.0   \n",
       "305  C SANTA LEONOR, 65 -EDIF. F- 3ª PLTA-PARQ.EMP....     28037.0   \n",
       "306                               GUZMAN EL BUENO, 110     28003.0   \n",
       "307                        PLAZA DE LA INDEPENDENCIA 6     28001.0   \n",
       "308                                      CASTELLANA 42     28046.0   \n",
       "309                                ISABEL CORLBRAN 6-8     28050.0   \n",
       "310                                      VELAZQUEZ 114     28006.0   \n",
       "311                                       VELAZQUEZ 94     28006.0   \n",
       "312                                       AV MARCONI 4     28021.0   \n",
       "313                      C/ GRANADA 3 PLIND VALDONAIRE     28970.0   \n",
       "314        AVDA DEL PARTENON, 5 2º ED. CENTRAL PTA SUR     28042.0   \n",
       "315                                  SANTA ENGRACIA 13     28010.0   \n",
       "316                                                NaN         NaN   \n",
       "317                                                NaN         NaN   \n",
       "\n",
       "      POBLACION DESTINO  \n",
       "0           FUENLABRADA  \n",
       "1                MADRID  \n",
       "2                MADRID  \n",
       "3                MADRID  \n",
       "4                MADRID  \n",
       "5                MADRID  \n",
       "6                MADRID  \n",
       "7                MADRID  \n",
       "8                MADRID  \n",
       "9                MADRID  \n",
       "10               MADRID  \n",
       "11               MADRID  \n",
       "12               MADRID  \n",
       "13               MADRID  \n",
       "14          MAJADAHONDA  \n",
       "15               MADRID  \n",
       "16               MADRID  \n",
       "17               MADRID  \n",
       "18               MADRID  \n",
       "19               MADRID  \n",
       "20               MADRID  \n",
       "21               MADRID  \n",
       "22               MADRID  \n",
       "23               MADRID  \n",
       "24               MADRID  \n",
       "25               MADRID  \n",
       "26               MADRID  \n",
       "27               MADRID  \n",
       "28               MADRID  \n",
       "29               MADRID  \n",
       "..                  ...  \n",
       "288              MADRID  \n",
       "289          ALCOBENDAS  \n",
       "290          ALCOBENDAS  \n",
       "291              MADRID  \n",
       "292  POZUELO DE ALARCON  \n",
       "293              MADRID  \n",
       "294              MADRID  \n",
       "295              MADRID  \n",
       "296              MADRID  \n",
       "297              MADRID  \n",
       "298              MADRID  \n",
       "299              MADRID  \n",
       "300              MADRID  \n",
       "301              MADRID  \n",
       "302              MADRID  \n",
       "303              MADRID  \n",
       "304              MADRID  \n",
       "305              MADRID  \n",
       "306              MADRID  \n",
       "307              MADRID  \n",
       "308              MADRID  \n",
       "309              MADRID  \n",
       "310              MADRID  \n",
       "311              MADRID  \n",
       "312              MADRID  \n",
       "313   HUMANES DE MADRID  \n",
       "314              MADRID  \n",
       "315              MADRID  \n",
       "316                 NaN  \n",
       "317                 NaN  \n",
       "\n",
       "[318 rows x 3 columns]"
      ]
     },
     "execution_count": 140,
     "metadata": {},
     "output_type": "execute_result"
    }
   ],
   "source": [
    "df = pd.read_excel('data_prueba.xls', usecols=[8, 9,10], convert_float=True)\n",
    "df"
   ]
  },
  {
   "cell_type": "code",
   "execution_count": 120,
   "metadata": {},
   "outputs": [
    {
     "data": {
      "text/plain": [
       "(318, 4)"
      ]
     },
     "execution_count": 120,
     "metadata": {},
     "output_type": "execute_result"
    }
   ],
   "source": [
    "df.shape"
   ]
  },
  {
   "cell_type": "code",
   "execution_count": 121,
   "metadata": {},
   "outputs": [
    {
     "name": "stdout",
     "output_type": "stream",
     "text": [
      "<class 'pandas.core.frame.DataFrame'>\n",
      "RangeIndex: 318 entries, 0 to 317\n",
      "Data columns (total 4 columns):\n",
      "DIRECCION            316 non-null object\n",
      "CP DESTINO           316 non-null float64\n",
      "POBLACION DESTINO    316 non-null object\n",
      "EXPEDICION           316 non-null float64\n",
      "dtypes: float64(2), object(2)\n",
      "memory usage: 10.0+ KB\n"
     ]
    }
   ],
   "source": [
    "df.info()"
   ]
  },
  {
   "cell_type": "code",
   "execution_count": 141,
   "metadata": {},
   "outputs": [
    {
     "data": {
      "text/html": [
       "<div>\n",
       "<style scoped>\n",
       "    .dataframe tbody tr th:only-of-type {\n",
       "        vertical-align: middle;\n",
       "    }\n",
       "\n",
       "    .dataframe tbody tr th {\n",
       "        vertical-align: top;\n",
       "    }\n",
       "\n",
       "    .dataframe thead th {\n",
       "        text-align: right;\n",
       "    }\n",
       "</style>\n",
       "<table border=\"1\" class=\"dataframe\">\n",
       "  <thead>\n",
       "    <tr style=\"text-align: right;\">\n",
       "      <th></th>\n",
       "      <th>DIRECCION</th>\n",
       "      <th>CP DESTINO</th>\n",
       "      <th>POBLACION DESTINO</th>\n",
       "    </tr>\n",
       "  </thead>\n",
       "  <tbody>\n",
       "    <tr>\n",
       "      <th>0</th>\n",
       "      <td>AV ENCINA 26</td>\n",
       "      <td>28942.0</td>\n",
       "      <td>FUENLABRADA</td>\n",
       "    </tr>\n",
       "    <tr>\n",
       "      <th>1</th>\n",
       "      <td>FRANCISCO DE ROJAS 10</td>\n",
       "      <td>28010.0</td>\n",
       "      <td>MADRID</td>\n",
       "    </tr>\n",
       "    <tr>\n",
       "      <th>2</th>\n",
       "      <td>RUIZ DE ALARCON 3</td>\n",
       "      <td>28014.0</td>\n",
       "      <td>MADRID</td>\n",
       "    </tr>\n",
       "    <tr>\n",
       "      <th>3</th>\n",
       "      <td>C ALMAGRO, 9</td>\n",
       "      <td>28010.0</td>\n",
       "      <td>MADRID</td>\n",
       "    </tr>\n",
       "    <tr>\n",
       "      <th>4</th>\n",
       "      <td>SAN LUIS, 25 1146</td>\n",
       "      <td>28033.0</td>\n",
       "      <td>MADRID</td>\n",
       "    </tr>\n",
       "    <tr>\n",
       "      <th>5</th>\n",
       "      <td>SAN JUAN DE ORTEGA 90</td>\n",
       "      <td>28034.0</td>\n",
       "      <td>MADRID</td>\n",
       "    </tr>\n",
       "    <tr>\n",
       "      <th>6</th>\n",
       "      <td>PORTO MARIN 7</td>\n",
       "      <td>28050.0</td>\n",
       "      <td>MADRID</td>\n",
       "    </tr>\n",
       "    <tr>\n",
       "      <th>7</th>\n",
       "      <td>CASTIELLO 14</td>\n",
       "      <td>28050.0</td>\n",
       "      <td>MADRID</td>\n",
       "    </tr>\n",
       "    <tr>\n",
       "      <th>8</th>\n",
       "      <td>SAN JUAN ORTEGA</td>\n",
       "      <td>28050.0</td>\n",
       "      <td>MADRID</td>\n",
       "    </tr>\n",
       "    <tr>\n",
       "      <th>9</th>\n",
       "      <td>PRINCESA DE EBOLI 52</td>\n",
       "      <td>28050.0</td>\n",
       "      <td>MADRID</td>\n",
       "    </tr>\n",
       "    <tr>\n",
       "      <th>10</th>\n",
       "      <td>SAN JUAN DE ORTEGA 90</td>\n",
       "      <td>28049.0</td>\n",
       "      <td>MADRID</td>\n",
       "    </tr>\n",
       "    <tr>\n",
       "      <th>11</th>\n",
       "      <td>CASTILLO DE CANDANHU 48</td>\n",
       "      <td>28050.0</td>\n",
       "      <td>MADRID</td>\n",
       "    </tr>\n",
       "    <tr>\n",
       "      <th>12</th>\n",
       "      <td>DULCE CHACON 17</td>\n",
       "      <td>28050.0</td>\n",
       "      <td>MADRID</td>\n",
       "    </tr>\n",
       "    <tr>\n",
       "      <th>13</th>\n",
       "      <td>PRINCESA DE EBOLI 52</td>\n",
       "      <td>28050.0</td>\n",
       "      <td>MADRID</td>\n",
       "    </tr>\n",
       "    <tr>\n",
       "      <th>14</th>\n",
       "      <td>AVDA JUAN CARLOS 1 27 BAJO A</td>\n",
       "      <td>28221.0</td>\n",
       "      <td>MAJADAHONDA</td>\n",
       "    </tr>\n",
       "  </tbody>\n",
       "</table>\n",
       "</div>"
      ],
      "text/plain": [
       "                       DIRECCION  CP DESTINO POBLACION DESTINO\n",
       "0                   AV ENCINA 26     28942.0       FUENLABRADA\n",
       "1          FRANCISCO DE ROJAS 10     28010.0            MADRID\n",
       "2              RUIZ DE ALARCON 3     28014.0            MADRID\n",
       "3                   C ALMAGRO, 9     28010.0            MADRID\n",
       "4              SAN LUIS, 25 1146     28033.0            MADRID\n",
       "5          SAN JUAN DE ORTEGA 90     28034.0            MADRID\n",
       "6                  PORTO MARIN 7     28050.0            MADRID\n",
       "7                   CASTIELLO 14     28050.0            MADRID\n",
       "8                SAN JUAN ORTEGA     28050.0            MADRID\n",
       "9           PRINCESA DE EBOLI 52     28050.0            MADRID\n",
       "10         SAN JUAN DE ORTEGA 90     28049.0            MADRID\n",
       "11       CASTILLO DE CANDANHU 48     28050.0            MADRID\n",
       "12               DULCE CHACON 17     28050.0            MADRID\n",
       "13          PRINCESA DE EBOLI 52     28050.0            MADRID\n",
       "14  AVDA JUAN CARLOS 1 27 BAJO A     28221.0       MAJADAHONDA"
      ]
     },
     "execution_count": 141,
     "metadata": {},
     "output_type": "execute_result"
    }
   ],
   "source": [
    "df_2 = df.head(n=15)\n",
    "df_2"
   ]
  },
  {
   "cell_type": "code",
   "execution_count": 142,
   "metadata": {},
   "outputs": [
    {
     "data": {
      "text/plain": [
       "Index(['DIRECCION', 'CP DESTINO', 'POBLACION DESTINO'], dtype='object')"
      ]
     },
     "execution_count": 142,
     "metadata": {},
     "output_type": "execute_result"
    }
   ],
   "source": [
    "df_2.columns"
   ]
  },
  {
   "cell_type": "code",
   "execution_count": 143,
   "metadata": {},
   "outputs": [
    {
     "data": {
      "text/plain": [
       "array([['AV ENCINA 26', 28942.0, 'FUENLABRADA'],\n",
       "       ['FRANCISCO DE ROJAS 10', 28010.0, 'MADRID'],\n",
       "       ['RUIZ DE ALARCON 3', 28014.0, 'MADRID'],\n",
       "       ['C ALMAGRO, 9', 28010.0, 'MADRID'],\n",
       "       ['SAN LUIS, 25 1146', 28033.0, 'MADRID'],\n",
       "       ['SAN JUAN DE ORTEGA 90', 28034.0, 'MADRID'],\n",
       "       ['PORTO MARIN 7', 28050.0, 'MADRID'],\n",
       "       ['CASTIELLO 14', 28050.0, 'MADRID'],\n",
       "       ['SAN JUAN ORTEGA', 28050.0, 'MADRID'],\n",
       "       ['PRINCESA DE EBOLI 52', 28050.0, 'MADRID'],\n",
       "       ['SAN JUAN DE ORTEGA 90', 28049.0, 'MADRID'],\n",
       "       ['CASTILLO DE CANDANHU 48', 28050.0, 'MADRID'],\n",
       "       ['DULCE CHACON 17', 28050.0, 'MADRID'],\n",
       "       ['PRINCESA DE EBOLI 52', 28050.0, 'MADRID'],\n",
       "       ['AVDA JUAN CARLOS 1 27 BAJO A', 28221.0, 'MAJADAHONDA']],\n",
       "      dtype=object)"
      ]
     },
     "execution_count": 143,
     "metadata": {},
     "output_type": "execute_result"
    }
   ],
   "source": [
    "df_2.values"
   ]
  },
  {
   "cell_type": "code",
   "execution_count": 144,
   "metadata": {},
   "outputs": [
    {
     "name": "stderr",
     "output_type": "stream",
     "text": [
      "/home/dsc/anaconda3/lib/python3.6/site-packages/ipykernel_launcher.py:1: SettingWithCopyWarning: \n",
      "A value is trying to be set on a copy of a slice from a DataFrame.\n",
      "Try using .loc[row_indexer,col_indexer] = value instead\n",
      "\n",
      "See the caveats in the documentation: http://pandas.pydata.org/pandas-docs/stable/indexing.html#indexing-view-versus-copy\n",
      "  \"\"\"Entry point for launching an IPython kernel.\n"
     ]
    },
    {
     "data": {
      "text/html": [
       "<div>\n",
       "<style scoped>\n",
       "    .dataframe tbody tr th:only-of-type {\n",
       "        vertical-align: middle;\n",
       "    }\n",
       "\n",
       "    .dataframe tbody tr th {\n",
       "        vertical-align: top;\n",
       "    }\n",
       "\n",
       "    .dataframe thead th {\n",
       "        text-align: right;\n",
       "    }\n",
       "</style>\n",
       "<table border=\"1\" class=\"dataframe\">\n",
       "  <thead>\n",
       "    <tr style=\"text-align: right;\">\n",
       "      <th></th>\n",
       "      <th>DIRECCION</th>\n",
       "      <th>CP DESTINO</th>\n",
       "      <th>POBLACION DESTINO</th>\n",
       "    </tr>\n",
       "  </thead>\n",
       "  <tbody>\n",
       "    <tr>\n",
       "      <th>0</th>\n",
       "      <td>AV ENCINA 26</td>\n",
       "      <td>28942</td>\n",
       "      <td>FUENLABRADA</td>\n",
       "    </tr>\n",
       "    <tr>\n",
       "      <th>1</th>\n",
       "      <td>FRANCISCO DE ROJAS 10</td>\n",
       "      <td>28010</td>\n",
       "      <td>MADRID</td>\n",
       "    </tr>\n",
       "    <tr>\n",
       "      <th>2</th>\n",
       "      <td>RUIZ DE ALARCON 3</td>\n",
       "      <td>28014</td>\n",
       "      <td>MADRID</td>\n",
       "    </tr>\n",
       "    <tr>\n",
       "      <th>3</th>\n",
       "      <td>C ALMAGRO, 9</td>\n",
       "      <td>28010</td>\n",
       "      <td>MADRID</td>\n",
       "    </tr>\n",
       "    <tr>\n",
       "      <th>4</th>\n",
       "      <td>SAN LUIS, 25 1146</td>\n",
       "      <td>28033</td>\n",
       "      <td>MADRID</td>\n",
       "    </tr>\n",
       "    <tr>\n",
       "      <th>5</th>\n",
       "      <td>SAN JUAN DE ORTEGA 90</td>\n",
       "      <td>28034</td>\n",
       "      <td>MADRID</td>\n",
       "    </tr>\n",
       "    <tr>\n",
       "      <th>6</th>\n",
       "      <td>PORTO MARIN 7</td>\n",
       "      <td>28050</td>\n",
       "      <td>MADRID</td>\n",
       "    </tr>\n",
       "    <tr>\n",
       "      <th>7</th>\n",
       "      <td>CASTIELLO 14</td>\n",
       "      <td>28050</td>\n",
       "      <td>MADRID</td>\n",
       "    </tr>\n",
       "    <tr>\n",
       "      <th>8</th>\n",
       "      <td>SAN JUAN ORTEGA</td>\n",
       "      <td>28050</td>\n",
       "      <td>MADRID</td>\n",
       "    </tr>\n",
       "    <tr>\n",
       "      <th>9</th>\n",
       "      <td>PRINCESA DE EBOLI 52</td>\n",
       "      <td>28050</td>\n",
       "      <td>MADRID</td>\n",
       "    </tr>\n",
       "    <tr>\n",
       "      <th>10</th>\n",
       "      <td>SAN JUAN DE ORTEGA 90</td>\n",
       "      <td>28049</td>\n",
       "      <td>MADRID</td>\n",
       "    </tr>\n",
       "    <tr>\n",
       "      <th>11</th>\n",
       "      <td>CASTILLO DE CANDANHU 48</td>\n",
       "      <td>28050</td>\n",
       "      <td>MADRID</td>\n",
       "    </tr>\n",
       "    <tr>\n",
       "      <th>12</th>\n",
       "      <td>DULCE CHACON 17</td>\n",
       "      <td>28050</td>\n",
       "      <td>MADRID</td>\n",
       "    </tr>\n",
       "    <tr>\n",
       "      <th>13</th>\n",
       "      <td>PRINCESA DE EBOLI 52</td>\n",
       "      <td>28050</td>\n",
       "      <td>MADRID</td>\n",
       "    </tr>\n",
       "    <tr>\n",
       "      <th>14</th>\n",
       "      <td>AVDA JUAN CARLOS 1 27 BAJO A</td>\n",
       "      <td>28221</td>\n",
       "      <td>MAJADAHONDA</td>\n",
       "    </tr>\n",
       "  </tbody>\n",
       "</table>\n",
       "</div>"
      ],
      "text/plain": [
       "                       DIRECCION  CP DESTINO POBLACION DESTINO\n",
       "0                   AV ENCINA 26       28942       FUENLABRADA\n",
       "1          FRANCISCO DE ROJAS 10       28010            MADRID\n",
       "2              RUIZ DE ALARCON 3       28014            MADRID\n",
       "3                   C ALMAGRO, 9       28010            MADRID\n",
       "4              SAN LUIS, 25 1146       28033            MADRID\n",
       "5          SAN JUAN DE ORTEGA 90       28034            MADRID\n",
       "6                  PORTO MARIN 7       28050            MADRID\n",
       "7                   CASTIELLO 14       28050            MADRID\n",
       "8                SAN JUAN ORTEGA       28050            MADRID\n",
       "9           PRINCESA DE EBOLI 52       28050            MADRID\n",
       "10         SAN JUAN DE ORTEGA 90       28049            MADRID\n",
       "11       CASTILLO DE CANDANHU 48       28050            MADRID\n",
       "12               DULCE CHACON 17       28050            MADRID\n",
       "13          PRINCESA DE EBOLI 52       28050            MADRID\n",
       "14  AVDA JUAN CARLOS 1 27 BAJO A       28221       MAJADAHONDA"
      ]
     },
     "execution_count": 144,
     "metadata": {},
     "output_type": "execute_result"
    }
   ],
   "source": [
    "df_2['CP DESTINO']=df_2['CP DESTINO'].astype(np.int64)\n",
    "df_2\n",
    "\n"
   ]
  },
  {
   "cell_type": "code",
   "execution_count": 128,
   "metadata": {},
   "outputs": [],
   "source": [
    "#Instalo libreria de usuarios de google maps para python\n",
    "\n",
    "#! pip install -U googlemaps\n"
   ]
  },
  {
   "cell_type": "code",
   "execution_count": 129,
   "metadata": {},
   "outputs": [],
   "source": [
    "#Actualizo el pip instalador\n",
    "\n",
    "#! pip install --upgrade pip"
   ]
  },
  {
   "cell_type": "code",
   "execution_count": 130,
   "metadata": {},
   "outputs": [],
   "source": [
    "#guardo la muestra a utlizar para el Pre_TFM\n",
    "\n",
    "df_2.to_excel('data_prueba_sample.xls')"
   ]
  },
  {
   "cell_type": "markdown",
   "metadata": {},
   "source": [
    "## GOOGLE MAPS PLATFORM\n",
    "\n",
    "##### LOGGIN: en este paso, y tras revisar variable documentación, obtengo una cuenta y un proyecto con Google Maps, lo cual me permitirá aprovehar sus utilidades\n",
    "\n",
    "Accedo a un REPOSITORIO abierto de desarrolladores de google maps para PYTHON, la cual me brinda la posibilidad de poder trabajar desde Python"
   ]
  },
  {
   "cell_type": "code",
   "execution_count": null,
   "metadata": {},
   "outputs": [],
   "source": [
    "### Primer intento con libreria googlemaps para python:\n",
    "\n",
    "import googlemaps\n",
    "from datetime import datetime"
   ]
  },
  {
   "cell_type": "code",
   "execution_count": 133,
   "metadata": {},
   "outputs": [],
   "source": [
    "?googlemaps"
   ]
  },
  {
   "cell_type": "markdown",
   "metadata": {},
   "source": [
    "#### En este punto dejo el código sin correr, por seguridad de la api"
   ]
  },
  {
   "cell_type": "code",
   "execution_count": 131,
   "metadata": {},
   "outputs": [],
   "source": [
    "#from info_tfm import api_key"
   ]
  },
  {
   "cell_type": "code",
   "execution_count": 132,
   "metadata": {},
   "outputs": [],
   "source": [
    "#user_google = googlemaps.Client(key=api_key)\n"
   ]
  },
  {
   "cell_type": "code",
   "execution_count": 86,
   "metadata": {},
   "outputs": [
    {
     "data": {
      "text/plain": [
       "<googlemaps.client.Client at 0x7f130d4b81d0>"
      ]
     },
     "execution_count": 86,
     "metadata": {},
     "output_type": "execute_result"
    }
   ],
   "source": [
    "#user_google"
   ]
  },
  {
   "cell_type": "markdown",
   "metadata": {},
   "source": [
    "### GEOPY\n",
    "\n",
    "Antes de empezar a trabajar con la plataforma de GOOGLE MAPS, investigo acerca de esta librería de Geopy, la cual intuyo me será de gran utilidad para poder geocodificar entregas en los hipotéticos casos:\n",
    "\n",
    "- Para pasarle long/lat a Google Maps (aunque google geocodifica calles por defecto al sacar la matriz distancias)\n",
    "- Para tener una segunda vía de geocodificación por si algunas entregas no se geocodifican con Google Maps\n",
    "\n",
    "Es por ello que dejo el código guía para ver como funciona"
   ]
  },
  {
   "cell_type": "code",
   "execution_count": 134,
   "metadata": {
    "scrolled": true
   },
   "outputs": [],
   "source": [
    "# Prueba con la libreria Geopy: la finalidad es poder geocodificar calles.\n",
    "# Google Maps Platform me deniega el acceso a geocodificar, por lo que uso esta \n",
    "# herramienta por si llegase a necesitarlo (la matriz de distancias geocodifica directamente...)\n",
    "\n",
    "#! pip install geopy"
   ]
  },
  {
   "cell_type": "code",
   "execution_count": 135,
   "metadata": {},
   "outputs": [],
   "source": [
    "from geopy.geocoders import Nominatim\n",
    "\n",
    "geolocator = Nominatim(user_agent=\"user_project\")"
   ]
  },
  {
   "cell_type": "code",
   "execution_count": 136,
   "metadata": {},
   "outputs": [
    {
     "name": "stdout",
     "output_type": "stream",
     "text": [
      "Calle del Universo, Pilarica, Valladolid, Castilla y León, 47011, España\n"
     ]
    }
   ],
   "source": [
    "location = geolocator.geocode(\"Calle del Universo, 3, Valladolid\")\n",
    "print(location.address)"
   ]
  },
  {
   "cell_type": "code",
   "execution_count": 137,
   "metadata": {},
   "outputs": [
    {
     "name": "stdout",
     "output_type": "stream",
     "text": [
      "(41.6579793, -4.6988921)\n",
      "{'place_id': 93034279, 'licence': 'Data © OpenStreetMap contributors, ODbL 1.0. https://osm.org/copyright', 'osm_type': 'way', 'osm_id': 75689481, 'boundingbox': ['41.6569033', '41.6587924', '-4.6990298', '-4.698207'], 'lat': '41.6579793', 'lon': '-4.6988921', 'display_name': 'Calle del Universo, Pilarica, Valladolid, Castilla y León, 47011, España', 'class': 'highway', 'type': 'residential', 'importance': 0.51}\n"
     ]
    },
    {
     "data": {
      "text/plain": [
       "{'boundingbox': ['41.6550687', '41.6587924', '-4.6990298', '-4.698207'],\n",
       " 'class': 'highway',\n",
       " 'display_name': 'Calle del Universo, Pilarica, Valladolid, Castilla y León, 47011, España',\n",
       " 'importance': 0.8099999999999999,\n",
       " 'lat': '41.6569033',\n",
       " 'licence': 'Data © OpenStreetMap contributors, ODbL 1.0. https://osm.org/copyright',\n",
       " 'lon': '-4.6990056',\n",
       " 'osm_id': '75689481',\n",
       " 'osm_type': 'way',\n",
       " 'place_id': '93034279',\n",
       " 'type': 'residential'}"
      ]
     },
     "execution_count": 137,
     "metadata": {},
     "output_type": "execute_result"
    }
   ],
   "source": [
    "print((location.latitude, location.longitude))\n",
    "(41.6569033, -4.6990056)\n",
    "print(location.raw)\n",
    "{'place_id': '93034279', 'licence': 'Data © OpenStreetMap contributors, ODbL 1.0. https://osm.org/copyright', 'osm_type': 'way', 'osm_id': '75689481', 'boundingbox': ['41.6550687', '41.6587924', '-4.6990298', '-4.698207'], 'lat': '41.6569033', 'lon': '-4.6990056', 'display_name': 'Calle del Universo, Pilarica, Valladolid, Castilla y León, 47011, España', 'class': 'highway', 'type': 'residential', 'importance': 0.8099999999999999}"
   ]
  },
  {
   "cell_type": "code",
   "execution_count": 138,
   "metadata": {},
   "outputs": [
    {
     "name": "stdout",
     "output_type": "stream",
     "text": [
      "Avenida de la Encina, El Naranjo, Fuenlabrada, Área metropolitana de Madrid y Corredor del Henares, Comunidad de Madrid, 28942, España\n"
     ]
    }
   ],
   "source": [
    "#Tras varios intentos parece que funciona, aunque bastante regular dando ubicaciones sin sentido (ej:calle orense 32, Madrid)\n",
    "location = geolocator.geocode(\" ENCINA 26 28942 FUENLABRADA\")\n",
    "print(location.address)"
   ]
  },
  {
   "cell_type": "code",
   "execution_count": 139,
   "metadata": {},
   "outputs": [],
   "source": [
    "?geolocator"
   ]
  },
  {
   "cell_type": "markdown",
   "metadata": {},
   "source": [
    "### DISTANCE MATRIX \n",
    "\n",
    "NOTA AL PROFESOR: advertir que las salidas del código son de pago. Estoy usando 266 euros de prueba con la cuenta de Google. Es por ello que, hasta no entender mejor este sistema de uso y pago, no he querido ponerme a probar indiscrimandadamente entradas de información (por ahora)"
   ]
  },
  {
   "cell_type": "code",
   "execution_count": 106,
   "metadata": {},
   "outputs": [],
   "source": [
    "from googlemaps import distance_matrix"
   ]
  },
  {
   "cell_type": "code",
   "execution_count": 107,
   "metadata": {},
   "outputs": [],
   "source": [
    "#repositorio con la documentación: https://googlemaps.github.io/google-maps-services-python/docs/#   "
   ]
  },
  {
   "cell_type": "code",
   "execution_count": 112,
   "metadata": {
    "collapsed": true
   },
   "outputs": [
    {
     "ename": "ApiError",
     "evalue": "REQUEST_DENIED (This API project is not authorized to use this API.)",
     "output_type": "error",
     "traceback": [
      "\u001b[0;31m---------------------------------------------------------------------------\u001b[0m",
      "\u001b[0;31mApiError\u001b[0m                                  Traceback (most recent call last)",
      "\u001b[0;32m<ipython-input-112-91780d050335>\u001b[0m in \u001b[0;36m<module>\u001b[0;34m()\u001b[0m\n\u001b[1;32m      1\u001b[0m \u001b[0;32mfrom\u001b[0m \u001b[0mgooglemaps\u001b[0m \u001b[0;32mimport\u001b[0m \u001b[0mgeocoding\u001b[0m\u001b[0;34m\u001b[0m\u001b[0m\n\u001b[1;32m      2\u001b[0m \u001b[0;34m\u001b[0m\u001b[0m\n\u001b[0;32m----> 3\u001b[0;31m \u001b[0mgeocoding\u001b[0m\u001b[0;34m.\u001b[0m\u001b[0mgeocode\u001b[0m\u001b[0;34m(\u001b[0m\u001b[0mclient\u001b[0m\u001b[0;34m=\u001b[0m\u001b[0muser_google\u001b[0m\u001b[0;34m,\u001b[0m\u001b[0maddress\u001b[0m\u001b[0;34m=\u001b[0m\u001b[0;34m'calle orense 32, Madrid'\u001b[0m\u001b[0;34m)\u001b[0m\u001b[0;34m\u001b[0m\u001b[0m\n\u001b[0m\u001b[1;32m      4\u001b[0m \u001b[0;31m# no tengo permisos para geocodificar\u001b[0m\u001b[0;34m\u001b[0m\u001b[0;34m\u001b[0m\u001b[0m\n",
      "\u001b[0;32m~/anaconda3/lib/python3.6/site-packages/googlemaps/geocoding.py\u001b[0m in \u001b[0;36mgeocode\u001b[0;34m(client, address, components, bounds, region, language)\u001b[0m\n\u001b[1;32m     66\u001b[0m         \u001b[0mparams\u001b[0m\u001b[0;34m[\u001b[0m\u001b[0;34m\"language\"\u001b[0m\u001b[0;34m]\u001b[0m \u001b[0;34m=\u001b[0m \u001b[0mlanguage\u001b[0m\u001b[0;34m\u001b[0m\u001b[0m\n\u001b[1;32m     67\u001b[0m \u001b[0;34m\u001b[0m\u001b[0m\n\u001b[0;32m---> 68\u001b[0;31m     \u001b[0;32mreturn\u001b[0m \u001b[0mclient\u001b[0m\u001b[0;34m.\u001b[0m\u001b[0m_request\u001b[0m\u001b[0;34m(\u001b[0m\u001b[0;34m\"/maps/api/geocode/json\"\u001b[0m\u001b[0;34m,\u001b[0m \u001b[0mparams\u001b[0m\u001b[0;34m)\u001b[0m\u001b[0;34m.\u001b[0m\u001b[0mget\u001b[0m\u001b[0;34m(\u001b[0m\u001b[0;34m\"results\"\u001b[0m\u001b[0;34m,\u001b[0m \u001b[0;34m[\u001b[0m\u001b[0;34m]\u001b[0m\u001b[0;34m)\u001b[0m\u001b[0;34m\u001b[0m\u001b[0m\n\u001b[0m\u001b[1;32m     69\u001b[0m \u001b[0;34m\u001b[0m\u001b[0m\n\u001b[1;32m     70\u001b[0m \u001b[0;34m\u001b[0m\u001b[0m\n",
      "\u001b[0;32m~/anaconda3/lib/python3.6/site-packages/googlemaps/client.py\u001b[0m in \u001b[0;36m_request\u001b[0;34m(self, url, params, first_request_time, retry_counter, base_url, accepts_clientid, extract_body, requests_kwargs, post_json)\u001b[0m\n\u001b[1;32m    258\u001b[0m                 \u001b[0mresult\u001b[0m \u001b[0;34m=\u001b[0m \u001b[0mextract_body\u001b[0m\u001b[0;34m(\u001b[0m\u001b[0mresponse\u001b[0m\u001b[0;34m)\u001b[0m\u001b[0;34m\u001b[0m\u001b[0m\n\u001b[1;32m    259\u001b[0m             \u001b[0;32melse\u001b[0m\u001b[0;34m:\u001b[0m\u001b[0;34m\u001b[0m\u001b[0m\n\u001b[0;32m--> 260\u001b[0;31m                 \u001b[0mresult\u001b[0m \u001b[0;34m=\u001b[0m \u001b[0mself\u001b[0m\u001b[0;34m.\u001b[0m\u001b[0m_get_body\u001b[0m\u001b[0;34m(\u001b[0m\u001b[0mresponse\u001b[0m\u001b[0;34m)\u001b[0m\u001b[0;34m\u001b[0m\u001b[0m\n\u001b[0m\u001b[1;32m    261\u001b[0m             \u001b[0mself\u001b[0m\u001b[0;34m.\u001b[0m\u001b[0msent_times\u001b[0m\u001b[0;34m.\u001b[0m\u001b[0mappend\u001b[0m\u001b[0;34m(\u001b[0m\u001b[0mtime\u001b[0m\u001b[0;34m.\u001b[0m\u001b[0mtime\u001b[0m\u001b[0;34m(\u001b[0m\u001b[0;34m)\u001b[0m\u001b[0;34m)\u001b[0m\u001b[0;34m\u001b[0m\u001b[0m\n\u001b[1;32m    262\u001b[0m             \u001b[0;32mreturn\u001b[0m \u001b[0mresult\u001b[0m\u001b[0;34m\u001b[0m\u001b[0m\n",
      "\u001b[0;32m~/anaconda3/lib/python3.6/site-packages/googlemaps/client.py\u001b[0m in \u001b[0;36m_get_body\u001b[0;34m(self, response)\u001b[0m\n\u001b[1;32m    288\u001b[0m \u001b[0;34m\u001b[0m\u001b[0m\n\u001b[1;32m    289\u001b[0m         raise googlemaps.exceptions.ApiError(api_status,\n\u001b[0;32m--> 290\u001b[0;31m                                              body.get(\"error_message\"))\n\u001b[0m\u001b[1;32m    291\u001b[0m \u001b[0;34m\u001b[0m\u001b[0m\n\u001b[1;32m    292\u001b[0m     \u001b[0;32mdef\u001b[0m \u001b[0m_generate_auth_url\u001b[0m\u001b[0;34m(\u001b[0m\u001b[0mself\u001b[0m\u001b[0;34m,\u001b[0m \u001b[0mpath\u001b[0m\u001b[0;34m,\u001b[0m \u001b[0mparams\u001b[0m\u001b[0;34m,\u001b[0m \u001b[0maccepts_clientid\u001b[0m\u001b[0;34m)\u001b[0m\u001b[0;34m:\u001b[0m\u001b[0;34m\u001b[0m\u001b[0m\n",
      "\u001b[0;31mApiError\u001b[0m: REQUEST_DENIED (This API project is not authorized to use this API.)"
     ]
    }
   ],
   "source": [
    "#from googlemaps import geocoding\n",
    "\n",
    "#geocoding.geocode(client=user_google,address='calle orense 32, Madrid')\n",
    "# no tengo permisos para geocodificar"
   ]
  },
  {
   "cell_type": "code",
   "execution_count": 113,
   "metadata": {},
   "outputs": [
    {
     "data": {
      "text/plain": [
       "{'destination_addresses': ['Barcelona, Spain'],\n",
       " 'origin_addresses': ['Madrid, Spain'],\n",
       " 'rows': [{'elements': [{'distance': {'text': '620 km', 'value': 620474},\n",
       "     'duration': {'text': '5 hours 58 mins', 'value': 21500},\n",
       "     'status': 'OK'}]}],\n",
       " 'status': 'OK'}"
      ]
     },
     "execution_count": 113,
     "metadata": {},
     "output_type": "execute_result"
    }
   ],
   "source": [
    "#1º prueba de matriz de distancias con una ruta\n",
    "distance_matrix.distance_matrix(client=user_google,origins='Madrid,España',destinations='Barcelona, España')"
   ]
  },
  {
   "cell_type": "code",
   "execution_count": 114,
   "metadata": {},
   "outputs": [],
   "source": [
    "#2º prueba de matriz de distancias con diversas direcciones\n",
    "\n",
    "result=distance_matrix.distance_matrix(client=user_google,origins=['PRINCESA DE EBOLI 52 28050 MADRID','AV ENCINA 26 28942 FUENLABRADA','FRANCISCO DE ROJAS 10 28010 MADRID'],destinations=['PRINCESA DE EBOLI 52 28050 MADRID','AV ENCINA 26 28942 FUENLABRADA','FRANCISCO DE ROJAS 10 28010 MADRID'])"
   ]
  },
  {
   "cell_type": "code",
   "execution_count": 115,
   "metadata": {},
   "outputs": [
    {
     "data": {
      "text/plain": [
       "dict"
      ]
     },
     "execution_count": 115,
     "metadata": {},
     "output_type": "execute_result"
    }
   ],
   "source": [
    "type(result)"
   ]
  },
  {
   "cell_type": "code",
   "execution_count": 72,
   "metadata": {},
   "outputs": [
    {
     "data": {
      "text/plain": [
       "{'destination_addresses': ['Calle Princesa de Éboli, 52, 28050 Madrid, Spain',\n",
       "  'Av. de la Encina, 26, 28942 Fuenlabrada, Madrid, Spain',\n",
       "  'Calle Francisco de Rojas, 10, 28010 Madrid, Spain'],\n",
       " 'origin_addresses': ['Calle Princesa de Éboli, 52, 28050 Madrid, Spain',\n",
       "  'Av. de la Encina, 26, 28942 Fuenlabrada, Madrid, Spain',\n",
       "  'Calle Francisco de Rojas, 10, 28010 Madrid, Spain'],\n",
       " 'rows': [{'elements': [{'distance': {'text': '1 m', 'value': 0},\n",
       "     'duration': {'text': '1 min', 'value': 0},\n",
       "     'status': 'OK'},\n",
       "    {'distance': {'text': '38.0 km', 'value': 38043},\n",
       "     'duration': {'text': '33 mins', 'value': 1959},\n",
       "     'status': 'OK'},\n",
       "    {'distance': {'text': '10.9 km', 'value': 10878},\n",
       "     'duration': {'text': '25 mins', 'value': 1482},\n",
       "     'status': 'OK'}]},\n",
       "  {'elements': [{'distance': {'text': '40.3 km', 'value': 40284},\n",
       "     'duration': {'text': '32 mins', 'value': 1900},\n",
       "     'status': 'OK'},\n",
       "    {'distance': {'text': '1 m', 'value': 0},\n",
       "     'duration': {'text': '1 min', 'value': 0},\n",
       "     'status': 'OK'},\n",
       "    {'distance': {'text': '24.9 km', 'value': 24891},\n",
       "     'duration': {'text': '34 mins', 'value': 2018},\n",
       "     'status': 'OK'}]},\n",
       "  {'elements': [{'distance': {'text': '15.8 km', 'value': 15778},\n",
       "     'duration': {'text': '22 mins', 'value': 1298},\n",
       "     'status': 'OK'},\n",
       "    {'distance': {'text': '31.8 km', 'value': 31800},\n",
       "     'duration': {'text': '30 mins', 'value': 1824},\n",
       "     'status': 'OK'},\n",
       "    {'distance': {'text': '1 m', 'value': 0},\n",
       "     'duration': {'text': '1 min', 'value': 0},\n",
       "     'status': 'OK'}]}],\n",
       " 'status': 'OK'}"
      ]
     },
     "execution_count": 72,
     "metadata": {},
     "output_type": "execute_result"
    }
   ],
   "source": [
    "result"
   ]
  },
  {
   "cell_type": "code",
   "execution_count": 77,
   "metadata": {},
   "outputs": [
    {
     "data": {
      "text/plain": [
       "dict_values([['Calle Princesa de Éboli, 52, 28050 Madrid, Spain', 'Av. de la Encina, 26, 28942 Fuenlabrada, Madrid, Spain', 'Calle Francisco de Rojas, 10, 28010 Madrid, Spain'], ['Calle Princesa de Éboli, 52, 28050 Madrid, Spain', 'Av. de la Encina, 26, 28942 Fuenlabrada, Madrid, Spain', 'Calle Francisco de Rojas, 10, 28010 Madrid, Spain'], [{'elements': [{'distance': {'text': '1 m', 'value': 0}, 'duration': {'text': '1 min', 'value': 0}, 'status': 'OK'}, {'distance': {'text': '38.0 km', 'value': 38043}, 'duration': {'text': '33 mins', 'value': 1959}, 'status': 'OK'}, {'distance': {'text': '10.9 km', 'value': 10878}, 'duration': {'text': '25 mins', 'value': 1482}, 'status': 'OK'}]}, {'elements': [{'distance': {'text': '40.3 km', 'value': 40284}, 'duration': {'text': '32 mins', 'value': 1900}, 'status': 'OK'}, {'distance': {'text': '1 m', 'value': 0}, 'duration': {'text': '1 min', 'value': 0}, 'status': 'OK'}, {'distance': {'text': '24.9 km', 'value': 24891}, 'duration': {'text': '34 mins', 'value': 2018}, 'status': 'OK'}]}, {'elements': [{'distance': {'text': '15.8 km', 'value': 15778}, 'duration': {'text': '22 mins', 'value': 1298}, 'status': 'OK'}, {'distance': {'text': '31.8 km', 'value': 31800}, 'duration': {'text': '30 mins', 'value': 1824}, 'status': 'OK'}, {'distance': {'text': '1 m', 'value': 0}, 'duration': {'text': '1 min', 'value': 0}, 'status': 'OK'}]}], 'OK'])"
      ]
     },
     "execution_count": 77,
     "metadata": {},
     "output_type": "execute_result"
    }
   ],
   "source": [
    "result.values()"
   ]
  },
  {
   "cell_type": "code",
   "execution_count": null,
   "metadata": {},
   "outputs": [],
   "source": [
    "# RESUMEN: he modificado mi dataset y he conseguido la salida de una matriz de distancias, la cual estructuraré \n",
    "# más adelante para poder clusterizar "
   ]
  }
 ],
 "metadata": {
  "kernelspec": {
   "display_name": "Python 3",
   "language": "python",
   "name": "python3"
  },
  "language_info": {
   "codemirror_mode": {
    "name": "ipython",
    "version": 3
   },
   "file_extension": ".py",
   "mimetype": "text/x-python",
   "name": "python",
   "nbconvert_exporter": "python",
   "pygments_lexer": "ipython3",
   "version": "3.6.4"
  }
 },
 "nbformat": 4,
 "nbformat_minor": 2
}
